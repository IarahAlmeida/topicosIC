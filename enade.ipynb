{
 "cells": [
  {
   "cell_type": "code",
   "execution_count": 242,
   "metadata": {},
   "outputs": [
    {
     "data": {
      "text/plain": [
       "(537436, 150)"
      ]
     },
     "execution_count": 242,
     "metadata": {},
     "output_type": "execute_result"
    }
   ],
   "source": [
    "import pandas\n",
    "import matplotlib.pyplot as plt\n",
    "\n",
    "enade2017 = pandas.read_csv(\"MICRODADOS_ENADE_2017.txt\", sep=';',dtype={\"DS_VT_ESC_OFG\": str, \n",
    "                                                                               'DS_VT_ESC_OCE':str,\n",
    "                                                                              'DS_VT_ACE_OCE':str,\n",
    "                                                                              'NT_GER':str,\n",
    "                                                                              'NT_FG':str,\n",
    "                                                                              'NT_OBJ_FG':str,\n",
    "                                                                              'NT_DIS_FG':str,\n",
    "                                                                              'NT_CE':str,\n",
    "                                                                              'NT_OBJ_CE':str,\n",
    "                                                                              'NT_DIS_CE':str})\n",
    "enade2017.shape"
   ]
  },
  {
   "cell_type": "code",
   "execution_count": 243,
   "metadata": {},
   "outputs": [
    {
     "data": {
      "text/html": [
       "<div>\n",
       "<style scoped>\n",
       "    .dataframe tbody tr th:only-of-type {\n",
       "        vertical-align: middle;\n",
       "    }\n",
       "\n",
       "    .dataframe tbody tr th {\n",
       "        vertical-align: top;\n",
       "    }\n",
       "\n",
       "    .dataframe thead th {\n",
       "        text-align: right;\n",
       "    }\n",
       "</style>\n",
       "<table border=\"1\" class=\"dataframe\">\n",
       "  <thead>\n",
       "    <tr style=\"text-align: right;\">\n",
       "      <th></th>\n",
       "      <th>NT_GER</th>\n",
       "      <th>QE_I06</th>\n",
       "      <th>QE_I13</th>\n",
       "      <th>CO_GRUPO</th>\n",
       "    </tr>\n",
       "  </thead>\n",
       "  <tbody>\n",
       "    <tr>\n",
       "      <th>0</th>\n",
       "      <td>52,6</td>\n",
       "      <td>A</td>\n",
       "      <td>A</td>\n",
       "      <td>5710</td>\n",
       "    </tr>\n",
       "    <tr>\n",
       "      <th>1</th>\n",
       "      <td>63,1</td>\n",
       "      <td>C</td>\n",
       "      <td>A</td>\n",
       "      <td>5710</td>\n",
       "    </tr>\n",
       "    <tr>\n",
       "      <th>2</th>\n",
       "      <td>33,7</td>\n",
       "      <td>B</td>\n",
       "      <td>D</td>\n",
       "      <td>5710</td>\n",
       "    </tr>\n",
       "    <tr>\n",
       "      <th>3</th>\n",
       "      <td>58,1</td>\n",
       "      <td>D</td>\n",
       "      <td>A</td>\n",
       "      <td>5710</td>\n",
       "    </tr>\n",
       "    <tr>\n",
       "      <th>4</th>\n",
       "      <td>46,3</td>\n",
       "      <td>B</td>\n",
       "      <td>A</td>\n",
       "      <td>5710</td>\n",
       "    </tr>\n",
       "    <tr>\n",
       "      <th>5</th>\n",
       "      <td>64,2</td>\n",
       "      <td>B</td>\n",
       "      <td>D</td>\n",
       "      <td>5710</td>\n",
       "    </tr>\n",
       "    <tr>\n",
       "      <th>6</th>\n",
       "      <td>41,4</td>\n",
       "      <td>B</td>\n",
       "      <td>D</td>\n",
       "      <td>5710</td>\n",
       "    </tr>\n",
       "    <tr>\n",
       "      <th>7</th>\n",
       "      <td>48,8</td>\n",
       "      <td>B</td>\n",
       "      <td>A</td>\n",
       "      <td>5710</td>\n",
       "    </tr>\n",
       "    <tr>\n",
       "      <th>8</th>\n",
       "      <td>52,9</td>\n",
       "      <td>B</td>\n",
       "      <td>A</td>\n",
       "      <td>5710</td>\n",
       "    </tr>\n",
       "    <tr>\n",
       "      <th>9</th>\n",
       "      <td>62,7</td>\n",
       "      <td>B</td>\n",
       "      <td>D</td>\n",
       "      <td>5710</td>\n",
       "    </tr>\n",
       "  </tbody>\n",
       "</table>\n",
       "</div>"
      ],
      "text/plain": [
       "  NT_GER QE_I06 QE_I13  CO_GRUPO\n",
       "0   52,6      A      A      5710\n",
       "1   63,1      C      A      5710\n",
       "2   33,7      B      D      5710\n",
       "3   58,1      D      A      5710\n",
       "4   46,3      B      A      5710\n",
       "5   64,2      B      D      5710\n",
       "6   41,4      B      D      5710\n",
       "7   48,8      B      A      5710\n",
       "8   52,9      B      A      5710\n",
       "9   62,7      B      D      5710"
      ]
     },
     "execution_count": 243,
     "metadata": {},
     "output_type": "execute_result"
    }
   ],
   "source": [
    "'''\n",
    "NT_GER\n",
    "Nota bruta da prova - Média ponderada da formação geral (25%) e componente específico (75%). (valor de 0 a 100)\n",
    "min = 0\n",
    "max = 98,10\n",
    "\n",
    "QE_I06: Onde e com quem você mora atualmente?\n",
    "A = Em casa ou apartamento, sozinho.\n",
    "B = Em casa ou apartamento, com pais e/ou parentes.\n",
    "C = Em casa ou apartamento, com cônjuge e/ou filhos.\n",
    "D = Em casa ou apartamento, com outras pessoas (incluindo república).\n",
    "E = Em alojamento universitário da própria instituição.\n",
    "F = Em outros tipos de habitação individual ou coletiva (hotel, hospedaria, pensão ou outro)\n",
    "\n",
    "QE_I13\n",
    "Ao longo da sua trajetória acadêmica, você recebeu algum tipo de bolsa acadêmica? No caso de haver mais de uma opção, marcar apenas a bolsa de maior duração.\n",
    "A = Nenhum.\n",
    "B = Bolsa de iniciação científica.\n",
    "C = Bolsa de extensão.\n",
    "D = Bolsa de monitoria/tutoria.\n",
    "E = Bolsa PET.\n",
    "F = Outro tipo de bolsa acadêmica.\n",
    "'''\n",
    "\n",
    "tabela = pandas.DataFrame(enade2017, columns=['NT_GER', 'QE_I06', 'QE_I13', 'CO_GRUPO'])\n",
    "tabela.head(10)"
   ]
  },
  {
   "cell_type": "code",
   "execution_count": 244,
   "metadata": {},
   "outputs": [],
   "source": [
    "# restringindo o estudo dentre os alunos do curso de Ciência da Computação\n",
    "tabela = tabela[tabela['CO_GRUPO'] == 4004]"
   ]
  },
  {
   "cell_type": "code",
   "execution_count": 245,
   "metadata": {},
   "outputs": [
    {
     "name": "stdout",
     "output_type": "stream",
     "text": [
      "383       58.7\n",
      "384       49.8\n",
      "385        NaN\n",
      "386       40.1\n",
      "387       53.2\n",
      "388       52.4\n",
      "389       22.4\n",
      "390       53.3\n",
      "391       44.4\n",
      "392       66.0\n",
      "393       36.5\n",
      "394       32.1\n",
      "395       23.0\n",
      "396       55.8\n",
      "397       35.5\n",
      "398       39.5\n",
      "399       68.3\n",
      "400       46.5\n",
      "401       39.1\n",
      "402       25.4\n",
      "403       36.0\n",
      "404       54.9\n",
      "405       61.9\n",
      "450       43.3\n",
      "451       50.6\n",
      "452       62.8\n",
      "453       42.7\n",
      "454       51.5\n",
      "455       79.9\n",
      "456        NaN\n",
      "          ... \n",
      "535801     NaN\n",
      "536049     NaN\n",
      "536050     NaN\n",
      "537204     NaN\n",
      "537205     NaN\n",
      "537206     NaN\n",
      "537207     NaN\n",
      "537208     NaN\n",
      "537209     NaN\n",
      "537210     NaN\n",
      "537211     NaN\n",
      "537212     NaN\n",
      "537213     NaN\n",
      "537214     NaN\n",
      "537215     NaN\n",
      "537216     NaN\n",
      "537217     NaN\n",
      "537218     NaN\n",
      "537219     NaN\n",
      "537220     NaN\n",
      "537221     NaN\n",
      "537222     NaN\n",
      "537223     NaN\n",
      "537224     NaN\n",
      "537225     NaN\n",
      "537226     NaN\n",
      "537227     NaN\n",
      "537228     NaN\n",
      "537229     NaN\n",
      "537230     NaN\n",
      "Name: NT_GER, Length: 10186, dtype: object\n"
     ]
    }
   ],
   "source": [
    "# limpeza dos dados\n",
    "# substitui vírgula por ponto\n",
    "tabela['NT_GER'] = tabela['NT_GER'].str.replace(',', '.')\n",
    "print(tabela['NT_GER'])\n",
    "\n",
    "# observe os NaN (not a number)"
   ]
  },
  {
   "cell_type": "code",
   "execution_count": 246,
   "metadata": {},
   "outputs": [
    {
     "name": "stdout",
     "output_type": "stream",
     "text": [
      "        NT_GER QE_I06 QE_I13  CO_GRUPO\n",
      "383       58.7      B      B      4004\n",
      "384       49.8      A      C      4004\n",
      "386       40.1      B      B      4004\n",
      "387       53.2      D      B      4004\n",
      "388       52.4      B      B      4004\n",
      "389       22.4      A      A      4004\n",
      "390       53.3      A      B      4004\n",
      "391       44.4      B      B      4004\n",
      "392       66.0      B      B      4004\n",
      "393       36.5      B      C      4004\n",
      "394       32.1      B      A      4004\n",
      "395       23.0      B      B      4004\n",
      "396       55.8      B      B      4004\n",
      "397       35.5      B      B      4004\n",
      "398       39.5      C      C      4004\n",
      "399       68.3      B      B      4004\n",
      "400       46.5      B      B      4004\n",
      "401       39.1      D      B      4004\n",
      "402       25.4      D      B      4004\n",
      "403       36.0      B      B      4004\n",
      "404       54.9      D      D      4004\n",
      "405       61.9      D      B      4004\n",
      "450       43.3      B      A      4004\n",
      "451       50.6    NaN    NaN      4004\n",
      "452       62.8      B      B      4004\n",
      "453       42.7      B      A      4004\n",
      "454       51.5    NaN    NaN      4004\n",
      "455       79.9      B      A      4004\n",
      "457       73.9      B      D      4004\n",
      "458       51.8      B      D      4004\n",
      "...        ...    ...    ...       ...\n",
      "534350    36.6      B      A      4004\n",
      "534351    43.2      B      A      4004\n",
      "534352    35.9      B      A      4004\n",
      "534353    35.2      B      A      4004\n",
      "534354    32.1      B      A      4004\n",
      "534355    40.6      B      A      4004\n",
      "534356    38.9      C      A      4004\n",
      "534358    35.3      C      A      4004\n",
      "534359    36.0      D      A      4004\n",
      "534360    39.8      B      A      4004\n",
      "534361    35.4      B      A      4004\n",
      "534362    32.4      B      A      4004\n",
      "534363    33.2      D      A      4004\n",
      "534364    30.7      B      A      4004\n",
      "534365    16.2      B      A      4004\n",
      "534367    30.1      B      A      4004\n",
      "534368    35.1      B      A      4004\n",
      "534369    26.0      B      A      4004\n",
      "534370    27.7      B      A      4004\n",
      "534371    44.2      B      A      4004\n",
      "534372    33.7      F      A      4004\n",
      "534373    19.6      B      A      4004\n",
      "534374    34.6      B      A      4004\n",
      "534375    27.4      B      A      4004\n",
      "534376    18.1      B      A      4004\n",
      "534377    35.7      B      A      4004\n",
      "534378    33.3      B      A      4004\n",
      "534380    26.6      B      A      4004\n",
      "534381    28.7      A      A      4004\n",
      "534382    32.5      B      A      4004\n",
      "\n",
      "[8489 rows x 4 columns]\n",
      "43.26277535634357\n"
     ]
    }
   ],
   "source": [
    "'''\n",
    "No arquivo 'Dicionário de variáveis dos Microdados do Enade_Edição 2017' descreve que:\n",
    "o codigo 222 no campo TP_PR_GER significa ausente, 556 e 888 são participações desconsideradas.\n",
    "Portanto, algumas notas podem ser desconsideradas dependendo do seu objetivo, \n",
    "e aqui, será de calcular a média daqueles que fizeram a prova.\n",
    "'''\n",
    "tabela = tabela.loc[(tabela['NT_GER'].notnull())]\n",
    "\n",
    "tabela['NT_GER'] = pandas.to_numeric(tabela['NT_GER'])\n",
    "\n",
    "print(tabela)\n",
    "print(tabela['NT_GER'].mean())"
   ]
  },
  {
   "cell_type": "code",
   "execution_count": 247,
   "metadata": {},
   "outputs": [
    {
     "data": {
      "text/plain": [
       "count    8489.000000\n",
       "mean       43.262775\n",
       "std        13.633212\n",
       "min         0.000000\n",
       "25%        33.700000\n",
       "50%        42.300000\n",
       "75%        52.400000\n",
       "max        95.100000\n",
       "Name: NT_GER, dtype: float64"
      ]
     },
     "execution_count": 247,
     "metadata": {},
     "output_type": "execute_result"
    }
   ],
   "source": [
    "# resumo estatístico\n",
    "tabela['NT_GER'].describe()"
   ]
  },
  {
   "cell_type": "code",
   "execution_count": 248,
   "metadata": {},
   "outputs": [],
   "source": [
    "# somente as notas de quem respondeu a questão sobre bolsas\n",
    "tabela = tabela.loc[(tabela['QE_I13'].notnull())]\n",
    "\n",
    "# somente as notas de quem respondeu a questão sobre moradia\n",
    "tabela = tabela.loc[(tabela['QE_I06'].notnull())]"
   ]
  },
  {
   "cell_type": "code",
   "execution_count": 249,
   "metadata": {},
   "outputs": [],
   "source": [
    "# mapeamento de valores\n",
    "tabela['QE_I06'] = tabela['QE_I06'].map({'A': 1, 'B': 2, 'C': 3, 'D': 4,'E': 5, 'F': 6})\n",
    "tabela['QE_I13'] = tabela['QE_I13'].map({'A': 1, 'B': 2, 'C': 3, 'D': 4,'E': 5, 'F': 6})"
   ]
  },
  {
   "cell_type": "code",
   "execution_count": 250,
   "metadata": {},
   "outputs": [
    {
     "data": {
      "text/plain": [
       "383    2\n",
       "384    1\n",
       "386    2\n",
       "387    4\n",
       "388    2\n",
       "389    1\n",
       "390    1\n",
       "391    2\n",
       "392    2\n",
       "393    2\n",
       "Name: QE_I06, dtype: int64"
      ]
     },
     "execution_count": 250,
     "metadata": {},
     "output_type": "execute_result"
    }
   ],
   "source": [
    "tabela.QE_I06.head(10)"
   ]
  },
  {
   "cell_type": "code",
   "execution_count": 251,
   "metadata": {},
   "outputs": [
    {
     "data": {
      "text/plain": [
       "383    2\n",
       "384    3\n",
       "386    2\n",
       "387    2\n",
       "388    2\n",
       "389    1\n",
       "390    2\n",
       "391    2\n",
       "392    2\n",
       "393    3\n",
       "Name: QE_I13, dtype: int64"
      ]
     },
     "execution_count": 251,
     "metadata": {},
     "output_type": "execute_result"
    }
   ],
   "source": [
    "tabela.QE_I13.head(10)"
   ]
  },
  {
   "cell_type": "code",
   "execution_count": 252,
   "metadata": {},
   "outputs": [
    {
     "data": {
      "image/png": "[encoded data removed]",
      "text/plain": [
       "<Figure size 432x288 with 1 Axes>"
      ]
     },
     "metadata": {},
     "output_type": "display_data"
    }
   ],
   "source": [
    "# visualmente\n",
    "plt.scatter(tabela.NT_GER, tabela.QE_I06)\n",
    "plt.ylabel('Onde e com quem mora atualmente')\n",
    "plt.xlabel('Nota geral')\n",
    "plt.show()"
   ]
  },
  {
   "cell_type": "code",
   "execution_count": 253,
   "metadata": {},
   "outputs": [
    {
     "data": {
      "text/plain": [
       "count    29.000000\n",
       "mean     49.872414\n",
       "std      15.941767\n",
       "min      20.700000\n",
       "25%      40.700000\n",
       "50%      51.400000\n",
       "75%      60.600000\n",
       "max      85.900000\n",
       "Name: NT_GER, dtype: float64"
      ]
     },
     "execution_count": 253,
     "metadata": {},
     "output_type": "execute_result"
    }
   ],
   "source": [
    "# estudantes que moram em alojamentos\n",
    "comAlojamento = tabela.loc[tabela.QE_I06 == 5]\n",
    "comAlojamento.NT_GER.describe()"
   ]
  },
  {
   "cell_type": "code",
   "execution_count": 254,
   "metadata": {},
   "outputs": [
    {
     "data": {
      "text/plain": [
       "count    8379.000000\n",
       "mean       43.301957\n",
       "std        13.613366\n",
       "min         0.000000\n",
       "25%        33.800000\n",
       "50%        42.300000\n",
       "75%        52.500000\n",
       "max        95.100000\n",
       "Name: NT_GER, dtype: float64"
      ]
     },
     "execution_count": 254,
     "metadata": {},
     "output_type": "execute_result"
    }
   ],
   "source": [
    "# estudantes que não moram em alojamentos\n",
    "semAlojamento = tabela.loc[tabela.QE_I06 != 5]\n",
    "semAlojamento.NT_GER.describe()"
   ]
  },
  {
   "cell_type": "code",
   "execution_count": 255,
   "metadata": {},
   "outputs": [
    {
     "data": {
      "image/png": "[encoded data removed]",
      "text/plain": [
       "<Figure size 432x288 with 1 Axes>"
      ]
     },
     "metadata": {},
     "output_type": "display_data"
    }
   ],
   "source": [
    "# visualmente\n",
    "plt.scatter(tabela.NT_GER, tabela.QE_I13)\n",
    "plt.ylabel('Recebimento de bosla ao longo da trajetória acadêmica')\n",
    "plt.xlabel('Nota geral')\n",
    "plt.show()"
   ]
  },
  {
   "cell_type": "code",
   "execution_count": 256,
   "metadata": {},
   "outputs": [
    {
     "data": {
      "text/plain": [
       "count    3015.000000\n",
       "mean       49.126567\n",
       "std        13.951450\n",
       "min         0.000000\n",
       "25%        39.400000\n",
       "50%        49.300000\n",
       "75%        58.700000\n",
       "max        93.900000\n",
       "Name: NT_GER, dtype: float64"
      ]
     },
     "execution_count": 256,
     "metadata": {},
     "output_type": "execute_result"
    }
   ],
   "source": [
    "# estudantes que receberam bolsa\n",
    "comBolsa = tabela.loc[tabela.QE_I13 != 1]\n",
    "comBolsa.NT_GER.describe()"
   ]
  },
  {
   "cell_type": "code",
   "execution_count": 257,
   "metadata": {},
   "outputs": [
    {
     "data": {
      "text/plain": [
       "count    5393.000000\n",
       "mean       40.080994\n",
       "std        12.302738\n",
       "min         0.000000\n",
       "25%        31.700000\n",
       "50%        39.300000\n",
       "75%        47.900000\n",
       "max        95.100000\n",
       "Name: NT_GER, dtype: float64"
      ]
     },
     "execution_count": 257,
     "metadata": {},
     "output_type": "execute_result"
    }
   ],
   "source": [
    "# estudantes que não receberam bolsa\n",
    "semBolsa = tabela.loc[tabela.QE_I13 == 1]\n",
    "semBolsa.NT_GER.describe()"
   ]
  },
  {
   "cell_type": "code",
   "execution_count": 278,
   "metadata": {},
   "outputs": [
    {
     "data": {
      "text/plain": [
       "<matplotlib.axes._subplots.AxesSubplot at 0x2321111f780>"
      ]
     },
     "execution_count": 278,
     "metadata": {},
     "output_type": "execute_result"
    },
    {
     "data": {
      "image/png": "[encoded data removed]",
      "text/plain": [
       "<Figure size 432x288 with 1 Axes>"
      ]
     },
     "metadata": {},
     "output_type": "display_data"
    }
   ],
   "source": [
    "# verificação de resultados\n",
    "qe06 = pandas.DataFrame(tabela, columns=['NT_GER', 'QE_I06'])\n",
    "qe06.boxplot(by='QE_I06')"
   ]
  },
  {
   "cell_type": "code",
   "execution_count": 259,
   "metadata": {},
   "outputs": [
    {
     "data": {
      "text/plain": [
       "<matplotlib.axes._subplots.AxesSubplot at 0x23257594cc0>"
      ]
     },
     "execution_count": 259,
     "metadata": {},
     "output_type": "execute_result"
    },
    {
     "data": {
      "image/png": "[encoded data removed]",
      "text/plain": [
       "<Figure size 432x288 with 1 Axes>"
      ]
     },
     "metadata": {},
     "output_type": "display_data"
    }
   ],
   "source": [
    "qe13 = pandas.DataFrame(tabela, columns=['NT_GER', 'QE_I13'])\n",
    "qe13.boxplot(by='QE_I13')"
   ]
  },
  {
   "cell_type": "code",
   "execution_count": 260,
   "metadata": {},
   "outputs": [
    {
     "data": {
      "text/html": [
       "<div>\n",
       "<style scoped>\n",
       "    .dataframe tbody tr th:only-of-type {\n",
       "        vertical-align: middle;\n",
       "    }\n",
       "\n",
       "    .dataframe tbody tr th {\n",
       "        vertical-align: top;\n",
       "    }\n",
       "\n",
       "    .dataframe thead th {\n",
       "        text-align: right;\n",
       "    }\n",
       "</style>\n",
       "<table border=\"1\" class=\"dataframe\">\n",
       "  <thead>\n",
       "    <tr style=\"text-align: right;\">\n",
       "      <th></th>\n",
       "      <th>count</th>\n",
       "      <th>mean</th>\n",
       "      <th>std</th>\n",
       "      <th>min</th>\n",
       "      <th>25%</th>\n",
       "      <th>50%</th>\n",
       "      <th>75%</th>\n",
       "      <th>max</th>\n",
       "    </tr>\n",
       "    <tr>\n",
       "      <th>QE_I06</th>\n",
       "      <th></th>\n",
       "      <th></th>\n",
       "      <th></th>\n",
       "      <th></th>\n",
       "      <th></th>\n",
       "      <th></th>\n",
       "      <th></th>\n",
       "      <th></th>\n",
       "    </tr>\n",
       "  </thead>\n",
       "  <tbody>\n",
       "    <tr>\n",
       "      <th>1</th>\n",
       "      <td>729.0</td>\n",
       "      <td>42.884774</td>\n",
       "      <td>13.567003</td>\n",
       "      <td>1.2</td>\n",
       "      <td>32.9</td>\n",
       "      <td>41.7</td>\n",
       "      <td>52.300</td>\n",
       "      <td>85.7</td>\n",
       "    </tr>\n",
       "    <tr>\n",
       "      <th>2</th>\n",
       "      <td>5762.0</td>\n",
       "      <td>43.470462</td>\n",
       "      <td>13.539830</td>\n",
       "      <td>0.0</td>\n",
       "      <td>34.1</td>\n",
       "      <td>42.5</td>\n",
       "      <td>52.500</td>\n",
       "      <td>95.1</td>\n",
       "    </tr>\n",
       "    <tr>\n",
       "      <th>3</th>\n",
       "      <td>1020.0</td>\n",
       "      <td>39.292647</td>\n",
       "      <td>12.986906</td>\n",
       "      <td>0.0</td>\n",
       "      <td>30.4</td>\n",
       "      <td>38.0</td>\n",
       "      <td>47.025</td>\n",
       "      <td>84.6</td>\n",
       "    </tr>\n",
       "    <tr>\n",
       "      <th>4</th>\n",
       "      <td>787.0</td>\n",
       "      <td>47.427700</td>\n",
       "      <td>13.638345</td>\n",
       "      <td>0.0</td>\n",
       "      <td>37.9</td>\n",
       "      <td>47.0</td>\n",
       "      <td>57.300</td>\n",
       "      <td>83.1</td>\n",
       "    </tr>\n",
       "    <tr>\n",
       "      <th>5</th>\n",
       "      <td>29.0</td>\n",
       "      <td>49.872414</td>\n",
       "      <td>15.941767</td>\n",
       "      <td>20.7</td>\n",
       "      <td>40.7</td>\n",
       "      <td>51.4</td>\n",
       "      <td>60.600</td>\n",
       "      <td>85.9</td>\n",
       "    </tr>\n",
       "    <tr>\n",
       "      <th>6</th>\n",
       "      <td>81.0</td>\n",
       "      <td>45.471605</td>\n",
       "      <td>13.214313</td>\n",
       "      <td>12.9</td>\n",
       "      <td>35.4</td>\n",
       "      <td>45.1</td>\n",
       "      <td>54.700</td>\n",
       "      <td>78.7</td>\n",
       "    </tr>\n",
       "  </tbody>\n",
       "</table>\n",
       "</div>"
      ],
      "text/plain": [
       "         count       mean        std   min   25%   50%     75%   max\n",
       "QE_I06                                                              \n",
       "1        729.0  42.884774  13.567003   1.2  32.9  41.7  52.300  85.7\n",
       "2       5762.0  43.470462  13.539830   0.0  34.1  42.5  52.500  95.1\n",
       "3       1020.0  39.292647  12.986906   0.0  30.4  38.0  47.025  84.6\n",
       "4        787.0  47.427700  13.638345   0.0  37.9  47.0  57.300  83.1\n",
       "5         29.0  49.872414  15.941767  20.7  40.7  51.4  60.600  85.9\n",
       "6         81.0  45.471605  13.214313  12.9  35.4  45.1  54.700  78.7"
      ]
     },
     "execution_count": 260,
     "metadata": {},
     "output_type": "execute_result"
    }
   ],
   "source": [
    "# a análise de variância (ANOVA) é um teste usado para comparar as médias de dois grupos. \n",
    "# suposições: normalidade, independência e variância homegênea\n",
    "\n",
    "# nota geral agrupada pela questão 06\n",
    "tabela['NT_GER'].groupby(tabela['QE_I06']).describe()"
   ]
  },
  {
   "cell_type": "code",
   "execution_count": 261,
   "metadata": {},
   "outputs": [
    {
     "data": {
      "text/html": [
       "<div>\n",
       "<style scoped>\n",
       "    .dataframe tbody tr th:only-of-type {\n",
       "        vertical-align: middle;\n",
       "    }\n",
       "\n",
       "    .dataframe tbody tr th {\n",
       "        vertical-align: top;\n",
       "    }\n",
       "\n",
       "    .dataframe thead th {\n",
       "        text-align: right;\n",
       "    }\n",
       "</style>\n",
       "<table border=\"1\" class=\"dataframe\">\n",
       "  <thead>\n",
       "    <tr style=\"text-align: right;\">\n",
       "      <th></th>\n",
       "      <th>count</th>\n",
       "      <th>mean</th>\n",
       "      <th>std</th>\n",
       "      <th>min</th>\n",
       "      <th>25%</th>\n",
       "      <th>50%</th>\n",
       "      <th>75%</th>\n",
       "      <th>max</th>\n",
       "    </tr>\n",
       "    <tr>\n",
       "      <th>QE_I13</th>\n",
       "      <th></th>\n",
       "      <th></th>\n",
       "      <th></th>\n",
       "      <th></th>\n",
       "      <th></th>\n",
       "      <th></th>\n",
       "      <th></th>\n",
       "      <th></th>\n",
       "    </tr>\n",
       "  </thead>\n",
       "  <tbody>\n",
       "    <tr>\n",
       "      <th>1</th>\n",
       "      <td>5393.0</td>\n",
       "      <td>40.080994</td>\n",
       "      <td>12.302738</td>\n",
       "      <td>0.0</td>\n",
       "      <td>31.700</td>\n",
       "      <td>39.3</td>\n",
       "      <td>47.900</td>\n",
       "      <td>95.1</td>\n",
       "    </tr>\n",
       "    <tr>\n",
       "      <th>2</th>\n",
       "      <td>1400.0</td>\n",
       "      <td>51.183071</td>\n",
       "      <td>14.203853</td>\n",
       "      <td>0.0</td>\n",
       "      <td>41.575</td>\n",
       "      <td>51.6</td>\n",
       "      <td>61.125</td>\n",
       "      <td>88.6</td>\n",
       "    </tr>\n",
       "    <tr>\n",
       "      <th>3</th>\n",
       "      <td>379.0</td>\n",
       "      <td>47.116095</td>\n",
       "      <td>12.295492</td>\n",
       "      <td>0.0</td>\n",
       "      <td>38.650</td>\n",
       "      <td>46.8</td>\n",
       "      <td>56.100</td>\n",
       "      <td>86.5</td>\n",
       "    </tr>\n",
       "    <tr>\n",
       "      <th>4</th>\n",
       "      <td>455.0</td>\n",
       "      <td>49.510549</td>\n",
       "      <td>13.391774</td>\n",
       "      <td>12.5</td>\n",
       "      <td>40.300</td>\n",
       "      <td>50.2</td>\n",
       "      <td>58.550</td>\n",
       "      <td>93.3</td>\n",
       "    </tr>\n",
       "    <tr>\n",
       "      <th>5</th>\n",
       "      <td>163.0</td>\n",
       "      <td>54.262577</td>\n",
       "      <td>13.278011</td>\n",
       "      <td>23.5</td>\n",
       "      <td>43.550</td>\n",
       "      <td>54.3</td>\n",
       "      <td>62.900</td>\n",
       "      <td>93.9</td>\n",
       "    </tr>\n",
       "    <tr>\n",
       "      <th>6</th>\n",
       "      <td>618.0</td>\n",
       "      <td>44.063430</td>\n",
       "      <td>13.328950</td>\n",
       "      <td>10.7</td>\n",
       "      <td>34.825</td>\n",
       "      <td>44.0</td>\n",
       "      <td>53.475</td>\n",
       "      <td>85.7</td>\n",
       "    </tr>\n",
       "  </tbody>\n",
       "</table>\n",
       "</div>"
      ],
      "text/plain": [
       "         count       mean        std   min     25%   50%     75%   max\n",
       "QE_I13                                                                \n",
       "1       5393.0  40.080994  12.302738   0.0  31.700  39.3  47.900  95.1\n",
       "2       1400.0  51.183071  14.203853   0.0  41.575  51.6  61.125  88.6\n",
       "3        379.0  47.116095  12.295492   0.0  38.650  46.8  56.100  86.5\n",
       "4        455.0  49.510549  13.391774  12.5  40.300  50.2  58.550  93.3\n",
       "5        163.0  54.262577  13.278011  23.5  43.550  54.3  62.900  93.9\n",
       "6        618.0  44.063430  13.328950  10.7  34.825  44.0  53.475  85.7"
      ]
     },
     "execution_count": 261,
     "metadata": {},
     "output_type": "execute_result"
    }
   ],
   "source": [
    "# nota geral agrupada pela questão 13\n",
    "tabela['NT_GER'].groupby(tabela['QE_I13']).describe()"
   ]
  },
  {
   "cell_type": "code",
   "execution_count": 266,
   "metadata": {},
   "outputs": [
    {
     "name": "stdout",
     "output_type": "stream",
     "text": [
      "(0.9836128354072571, 0.9189285635948181)\n"
     ]
    },
    {
     "data": {
      "text/plain": [
       "<matplotlib.axes._subplots.AxesSubplot at 0x2321b49c438>"
      ]
     },
     "execution_count": 266,
     "metadata": {},
     "output_type": "execute_result"
    },
    {
     "data": {
      "image/png": "[encoded data removed]",
      "text/plain": [
       "<Figure size 432x288 with 1 Axes>"
      ]
     },
     "metadata": {},
     "output_type": "display_data"
    }
   ],
   "source": [
    "#teste das suposições\n",
    "import scipy.stats as stats\n",
    "\n",
    "print(stats.shapiro(qe06.NT_GER.loc[qe06.QE_I06 == 5]))\n",
    "\n",
    "#print(stats.shapiro(qe06.NT_GER.loc[qe06.QE_I06 != 5]))\n",
    "\n",
    "#a saída do teste é o valor W e o p-value\n",
    "#Considera-se que a suposição não é violada quando o p-value é maior que alpha, normalmente 0.05\n",
    "\n",
    "#pelo histograma, também é possível observar a distribuição dos dados.\n",
    "qe06.NT_GER.loc[qe06.QE_I06 == 5].hist()\n",
    "\n",
    "#qe06.NT_GER.loc[qe06.QE_I06 != 5].hist()"
   ]
  },
  {
   "cell_type": "code",
   "execution_count": 267,
   "metadata": {},
   "outputs": [
    {
     "name": "stdout",
     "output_type": "stream",
     "text": [
      "(0.9952930808067322, 3.155765579410108e-12)\n"
     ]
    },
    {
     "name": "stderr",
     "output_type": "stream",
     "text": [
      "C:\\Users\\Iarah\\Anaconda3\\lib\\site-packages\\scipy\\stats\\morestats.py:1309: UserWarning: p-value may not be accurate for N > 5000.\n",
      "  warnings.warn(\"p-value may not be accurate for N > 5000.\")\n"
     ]
    },
    {
     "data": {
      "text/plain": [
       "<matplotlib.axes._subplots.AxesSubplot at 0x23228e4fc50>"
      ]
     },
     "execution_count": 267,
     "metadata": {},
     "output_type": "execute_result"
    },
    {
     "data": {
      "image/png": "[encoded data removed]",
      "text/plain": [
       "<Figure size 432x288 with 1 Axes>"
      ]
     },
     "metadata": {},
     "output_type": "display_data"
    }
   ],
   "source": [
    "print(stats.shapiro(qe13.NT_GER.loc[qe13.QE_I13 == 1]))\n",
    "\n",
    "#print(stats.shapiro(qe13.NT_GER.loc[qe13.QE_I13 != 1]))\n",
    "\n",
    "#a saída do teste é o valor W e o p-value\n",
    "#Considera-se que a suposição não é violada quando o p-value é maior que alpha, normalmente 0.05\n",
    "\n",
    "#pelo histograma, também é possível observar a distribuição dos dados. \n",
    "qe13.NT_GER.loc[qe13.QE_I13 == 1].hist()\n",
    "\n",
    "#qe13.NT_GER.loc[qe13.QE_I13 != 1].hist()"
   ]
  },
  {
   "cell_type": "code",
   "execution_count": 264,
   "metadata": {},
   "outputs": [
    {
     "name": "stdout",
     "output_type": "stream",
     "text": [
      "Mann-Whitney: Estatisticas = 90872.000, p = 0.009\n",
      "Distribução diferente\n",
      "Kruskal-Wallis: Estatisticas = 5.508, p = 0.019\n",
      "Distribução diferente\n",
      "Anova: Estatisticas = 6.724, p = 0.010\n",
      "Distribução diferente\n"
     ]
    }
   ],
   "source": [
    "# teste não paramétrico são métodos que não assumem uma distribuição específica para os dados.\n",
    "stat, p = stats.mannwhitneyu(qe06.NT_GER.loc[qe06.QE_I06 == 5], qe06.NT_GER.loc[qe06.QE_I06 != 5])\n",
    "\n",
    "print('Mann-Whitney: Estatisticas = %.3f, p = %.3f' % (stat, p))\n",
    "\n",
    "alpha = 0.05\n",
    "if p > alpha:\n",
    "\tprint('Mesma distribuição')\n",
    "else:\n",
    "\tprint('Distribução diferente')\n",
    "    \n",
    "    \n",
    "stat, p = stats.kruskal(qe06.NT_GER.loc[qe06.QE_I06 == 5], qe06.NT_GER.loc[qe06.QE_I06 != 5])\n",
    "print('Kruskal-Wallis: Estatisticas = %.3f, p = %.3f' % (stat, p))\n",
    "\n",
    "if p > alpha:\n",
    "\tprint('Mesma distribuição')\n",
    "else:\n",
    "\tprint('Distribução diferente')\n",
    "    \n",
    "#anova\n",
    "stat, p = stats.f_oneway(qe06.NT_GER.loc[qe06.QE_I06 == 5], qe06.NT_GER.loc[qe06.QE_I06 != 5])\n",
    "print('Anova: Estatisticas = %.3f, p = %.3f' % (stat, p))\n",
    "if p > alpha:\n",
    "\tprint('Mesma distribuição')\n",
    "else:\n",
    "\tprint('Distribução diferente')"
   ]
  },
  {
   "cell_type": "code",
   "execution_count": 265,
   "metadata": {},
   "outputs": [
    {
     "name": "stdout",
     "output_type": "stream",
     "text": [
      "Mann-Whitney: Estatisticas = 5039902.500, p = 0.000\n",
      "Distribução diferente\n",
      "Kruskal-Wallis: Estatisticas = 838.014, p = 0.000\n",
      "Distribução diferente\n",
      "Anova: Estatisticas = 948.199, p = 0.000\n",
      "Distribução diferente\n"
     ]
    }
   ],
   "source": [
    "# teste não paramétrico são métodos que não assumem uma distribuição específica para os dados.\n",
    "stat, p = stats.mannwhitneyu(qe13.NT_GER.loc[qe13.QE_I13 == 1], qe13.NT_GER.loc[qe13.QE_I13 != 1])\n",
    "\n",
    "print('Mann-Whitney: Estatisticas = %.3f, p = %.3f' % (stat, p))\n",
    "\n",
    "alpha = 0.05\n",
    "if p > alpha:\n",
    "\tprint('Mesma distribuição')\n",
    "else:\n",
    "\tprint('Distribução diferente')\n",
    "    \n",
    "    \n",
    "stat, p = stats.kruskal(qe13.NT_GER.loc[qe13.QE_I13 == 1], qe13.NT_GER.loc[qe13.QE_I13 != 1])\n",
    "print('Kruskal-Wallis: Estatisticas = %.3f, p = %.3f' % (stat, p))\n",
    "\n",
    "if p > alpha:\n",
    "\tprint('Mesma distribuição')\n",
    "else:\n",
    "\tprint('Distribução diferente')\n",
    "    \n",
    "#anova\n",
    "stat, p = stats.f_oneway(qe13.NT_GER.loc[qe13.QE_I13 == 1], qe13.NT_GER.loc[qe13.QE_I13 != 1])\n",
    "print('Anova: Estatisticas = %.3f, p = %.3f' % (stat, p))\n",
    "if p > alpha:\n",
    "\tprint('Mesma distribuição')\n",
    "else:\n",
    "\tprint('Distribução diferente')"
   ]
  },
  {
   "cell_type": "code",
   "execution_count": null,
   "metadata": {},
   "outputs": [],
   "source": []
  },
  {
   "cell_type": "code",
   "execution_count": null,
   "metadata": {},
   "outputs": [],
   "source": []
  },
  {
   "cell_type": "code",
   "execution_count": null,
   "metadata": {},
   "outputs": [],
   "source": []
  }
 ],
 "metadata": {
  "kernelspec": {
   "display_name": "Python 3",
   "language": "python",
   "name": "python3"
  },
  "language_info": {
   "codemirror_mode": {
    "name": "ipython",
    "version": 3
   },
   "file_extension": ".py",
   "mimetype": "text/x-python",
   "name": "python",
   "nbconvert_exporter": "python",
   "pygments_lexer": "ipython3",
   "version": "3.6.5"
  }
 },
 "nbformat": 4,
 "nbformat_minor": 2
}
